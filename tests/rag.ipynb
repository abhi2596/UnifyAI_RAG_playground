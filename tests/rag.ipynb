{
 "cells": [
  {
   "cell_type": "code",
   "execution_count": 1,
   "metadata": {},
   "outputs": [
    {
     "name": "stderr",
     "output_type": "stream",
     "text": [
      "c:\\Users\\abhij\\OneDrive\\Desktop\\UnifyAI_RAG_playground\\.venv\\lib\\site-packages\\tqdm\\auto.py:21: TqdmWarning: IProgress not found. Please update jupyter and ipywidgets. See https://ipywidgets.readthedocs.io/en/stable/user_install.html\n",
      "  from .autonotebook import tqdm as notebook_tqdm\n"
     ]
    }
   ],
   "source": [
    "from llama_index.core import VectorStoreIndex, SimpleDirectoryReader, Settings\n",
    "from llama_index.core.embeddings import resolve_embed_model\n",
    "\n",
    "documents = SimpleDirectoryReader(\"data\").load_data()\n",
    "\n",
    "# bge embedding model\n",
    "Settings.embed_model = resolve_embed_model(\"local:BAAI/bge-small-en-v1.5\")\n",
    "\n",
    "index = VectorStoreIndex.from_documents(\n",
    "    documents,\n",
    ")"
   ]
  },
  {
   "cell_type": "code",
   "execution_count": 4,
   "metadata": {},
   "outputs": [],
   "source": [
    "from typing import Optional,Any \n",
    "import os "
   ]
  },
  {
   "cell_type": "code",
   "execution_count": 5,
   "metadata": {},
   "outputs": [],
   "source": [
    "from llama_index.llms.openai_like import OpenAILike\n",
    "class Unify(OpenAILike):\n",
    "    def __init__(\n",
    "        self,\n",
    "        model: str,\n",
    "        api_key: Optional[str] = None,\n",
    "        api_base: str = \"https://api.unify.ai/v0\",\n",
    "        is_chat_model: bool = True,\n",
    "        **kwargs: Any,\n",
    "    ) -> None:\n",
    "        api_key = api_key or os.environ.get(\"UNIFY_API_KEY\", None)\n",
    "        super().__init__(\n",
    "            model=model,\n",
    "            api_key=api_key,\n",
    "            api_base=api_base,\n",
    "            is_chat_model=is_chat_model,\n",
    "            **kwargs,\n",
    "        )\n",
    "\n",
    "    @classmethod\n",
    "    def class_name(cls) -> str:\n",
    "        \"\"\"Get class name.\"\"\"\n",
    "        return \"UnifyLLM\""
   ]
  },
  {
   "cell_type": "code",
   "execution_count": 6,
   "metadata": {},
   "outputs": [],
   "source": [
    "Settings.llm = Unify(model=\"gemma-7b-it@anyscale\",api_key=\"cUEAzLeS-sGwU83yIPMjkAK5YDJuDWpSRCLAqyQcqoM=\")"
   ]
  },
  {
   "cell_type": "code",
   "execution_count": 8,
   "metadata": {},
   "outputs": [
    {
     "name": "stdout",
     "output_type": "stream",
     "text": [
      "OpenELM is an Efficient Language Model Family with Open-source Training and Inference Framework. It is a state-of-the-art open-source language model family that uses a layer-wise scaling strategy to efficiently allocate parameters within each layer of the transformer model, leading to enhanced accuracy.\n"
     ]
    }
   ],
   "source": [
    "query_engine = index.as_query_engine()\n",
    "response = query_engine.query(\"What is OpenELM?\")\n",
    "print(response)"
   ]
  },
  {
   "cell_type": "code",
   "execution_count": 8,
   "metadata": {},
   "outputs": [
    {
     "name": "stdout",
     "output_type": "stream",
     "text": [
      "The context does not provide any information about advanced techniques in prompting, so I cannot answer this question from the provided context.\n"
     ]
    }
   ],
   "source": [
    "response = query_engine.query(\"Can you give me some of the advanced techniques in prompting?\")\n",
    "print(response)"
   ]
  },
  {
   "cell_type": "code",
   "execution_count": 1,
   "metadata": {},
   "outputs": [],
   "source": [
    "import unify\n",
    "models = unify.list_models()\n",
    "providers = unify.list_providers(\"mistral-7b-instruct-v0.1\")\n",
    "endpoints = unify.list_endpoints(\"mistral-7b-instruct-v0.1\")"
   ]
  },
  {
   "cell_type": "code",
   "execution_count": 3,
   "metadata": {},
   "outputs": [],
   "source": [
    "providers = unify.list_providers(models[0])"
   ]
  },
  {
   "cell_type": "code",
   "execution_count": 4,
   "metadata": {},
   "outputs": [
    {
     "data": {
      "text/plain": [
       "['together-ai']"
      ]
     },
     "execution_count": 4,
     "metadata": {},
     "output_type": "execute_result"
    }
   ],
   "source": [
    "providers"
   ]
  },
  {
   "cell_type": "code",
   "execution_count": 5,
   "metadata": {},
   "outputs": [
    {
     "data": {
      "text/plain": [
       "['deepseek-coder-33b-instruct',\n",
       " 'gemma-2b-it',\n",
       " 'gemma-7b-it',\n",
       " 'claude-3-haiku',\n",
       " 'gpt-4-turbo',\n",
       " 'claude-3-opus',\n",
       " 'claude-3-sonnet',\n",
       " 'mistral-small',\n",
       " 'mistral-large',\n",
       " 'mixtral-8x22b-instruct-v0.1',\n",
       " 'llama-3-8b-chat',\n",
       " 'llama-3-70b-chat',\n",
       " 'mistral-7b-instruct-v0.2',\n",
       " 'mistral-medium',\n",
       " 'mixtral-8x7b-instruct-v0.1',\n",
       " 'mistral-7b-instruct-v0.1',\n",
       " 'llama-2-7b-chat',\n",
       " 'codellama-34b-instruct',\n",
       " 'llama-2-70b-chat',\n",
       " 'codellama-7b-instruct',\n",
       " 'codellama-13b-instruct',\n",
       " 'yi-34b-chat',\n",
       " 'pplx-7b-chat',\n",
       " 'gpt-4',\n",
       " 'pplx-70b-chat',\n",
       " 'gpt-3.5-turbo',\n",
       " 'llama-2-13b-chat']"
      ]
     },
     "execution_count": 5,
     "metadata": {},
     "output_type": "execute_result"
    }
   ],
   "source": [
    "models"
   ]
  },
  {
   "cell_type": "code",
   "execution_count": null,
   "metadata": {},
   "outputs": [],
   "source": []
  }
 ],
 "metadata": {
  "kernelspec": {
   "display_name": ".venv",
   "language": "python",
   "name": "python3"
  },
  "language_info": {
   "codemirror_mode": {
    "name": "ipython",
    "version": 3
   },
   "file_extension": ".py",
   "mimetype": "text/x-python",
   "name": "python",
   "nbconvert_exporter": "python",
   "pygments_lexer": "ipython3",
   "version": "3.9.13"
  }
 },
 "nbformat": 4,
 "nbformat_minor": 2
}
